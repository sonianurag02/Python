{
 "cells": [
  {
   "cell_type": "markdown",
   "id": "45a79fe3-3b6f-4721-a9b1-60ce1588ebd7",
   "metadata": {},
   "source": [
    "# Questions"
   ]
  },
  {
   "cell_type": "code",
   "execution_count": 2,
   "id": "7e424714-e4fa-46cb-8498-b9f9547c00a4",
   "metadata": {},
   "outputs": [
    {
     "name": "stdout",
     "output_type": "stream",
     "text": [
      "Hello, World!\n"
     ]
    }
   ],
   "source": [
    "# Write a Python program to print \"Hello, World!\",\n",
    "print(\"Hello, World!\")"
   ]
  },
  {
   "cell_type": "code",
   "execution_count": 3,
   "id": "23029177-ffb9-4c88-a056-3049db064170",
   "metadata": {},
   "outputs": [
    {
     "name": "stdout",
     "output_type": "stream",
     "text": [
      "Number 1:  5\n",
      "Number 2:  6\n"
     ]
    },
    {
     "name": "stdout",
     "output_type": "stream",
     "text": [
      "11\n"
     ]
    }
   ],
   "source": [
    "# Write a Python program that takes two numbers as input and prints their sum.\n",
    "x = int(input(\"Number 1: \"))\n",
    "y = int(input(\"Number 2: \"))\n",
    "print(x+y)"
   ]
  },
  {
   "cell_type": "code",
   "execution_count": 4,
   "id": "7cb9afb2-f5a3-483c-b663-89761f4a28dd",
   "metadata": {},
   "outputs": [
    {
     "name": "stdout",
     "output_type": "stream",
     "text": [
      "Hey', It's \"Me\".\n"
     ]
    }
   ],
   "source": [
    "# Print a sentence with both single and double quotes.\n",
    "print(\"\"\"Hey', It's \"Me\".\"\"\")"
   ]
  },
  {
   "cell_type": "code",
   "execution_count": 40,
   "id": "c1e70ef0-cca3-46f9-95d4-83f53796d3ae",
   "metadata": {},
   "outputs": [
    {
     "name": "stdout",
     "output_type": "stream",
     "text": [
      "My name is Anurag and I am 21 years old.\n"
     ]
    }
   ],
   "source": [
    "# Print a string with formatting using the % operator.\n",
    "name = \"Anurag\"\n",
    "age = 21\n",
    "\n",
    "print(\"My name is %s and I am %d years old.\" % (name, age))"
   ]
  },
  {
   "cell_type": "code",
   "execution_count": 6,
   "id": "39fd8a09-972d-4444-94d2-f549206d11a5",
   "metadata": {},
   "outputs": [
    {
     "name": "stdout",
     "output_type": "stream",
     "text": [
      "10\n"
     ]
    }
   ],
   "source": [
    "# Write a Python program to assign the value 10 to a variable named x and print its value.\n",
    "x = 10\n",
    "print(x)"
   ]
  },
  {
   "cell_type": "code",
   "execution_count": 41,
   "id": "51129401-779a-4715-af67-203311ff8588",
   "metadata": {},
   "outputs": [
    {
     "name": "stdout",
     "output_type": "stream",
     "text": [
      "Before swapping:\n",
      "a = 5\n",
      "b = 10\n",
      "After swapping:\n",
      "a = 10\n",
      "b = 5\n"
     ]
    }
   ],
   "source": [
    "# Write a Python program to swap the values of two variables a and b without using a temporary variable.\n",
    "a = 5\n",
    "b = 10\n",
    "print(\"Before swapping:\")\n",
    "print(\"a =\", a)\n",
    "print(\"b =\", b)\n",
    "a, b = b, a\n",
    "print(\"After swapping:\")\n",
    "print(\"a =\", a)\n",
    "print(\"b =\", b)"
   ]
  },
  {
   "cell_type": "code",
   "execution_count": 8,
   "id": "b970c297-d03a-4e8b-b57a-a697e22bdfad",
   "metadata": {},
   "outputs": [
    {
     "name": "stdout",
     "output_type": "stream",
     "text": [
      "10 20 30\n"
     ]
    }
   ],
   "source": [
    "# Declare multiple variables in a single line and print their values.\n",
    "a, b, c = 10, 20, 30\n",
    "print(a, b, c)"
   ]
  },
  {
   "cell_type": "code",
   "execution_count": 9,
   "id": "df58ecc5-5e76-4aea-9c18-41032afde48a",
   "metadata": {},
   "outputs": [
    {
     "name": "stdout",
     "output_type": "stream",
     "text": [
      "10\n",
      "12\n"
     ]
    }
   ],
   "source": [
    "# Change the value of a variable and print its new value.\n",
    "x = 10\n",
    "print(x)\n",
    "x = 12\n",
    "print(x)"
   ]
  },
  {
   "cell_type": "code",
   "execution_count": 10,
   "id": "cc515022-0276-43e4-8049-cee62ade7f11",
   "metadata": {},
   "outputs": [
    {
     "data": {
      "text/plain": [
       "12"
      ]
     },
     "execution_count": 10,
     "metadata": {},
     "output_type": "execute_result"
    }
   ],
   "source": [
    "# Declare a variable without assigning a value to it.\n",
    "x "
   ]
  },
  {
   "cell_type": "code",
   "execution_count": 11,
   "id": "9db1d94a-ba70-488a-8c43-c135057421d8",
   "metadata": {},
   "outputs": [
    {
     "data": {
      "text/plain": [
       "int"
      ]
     },
     "execution_count": 11,
     "metadata": {},
     "output_type": "execute_result"
    }
   ],
   "source": [
    "# Print the type of a variable.\n",
    "type(x)"
   ]
  },
  {
   "cell_type": "code",
   "execution_count": null,
   "id": "61e54372-55db-41a0-8791-de39382ec96b",
   "metadata": {},
   "outputs": [
    {
     "name": "stdout",
     "output_type": "stream",
     "text": [
      "10\n",
      "15\n"
     ]
    }
   ],
   "source": [
    "# Create a variable with a dynamically generated name and assign a value to it.\n",
    "name = \"dynamic_variable\"\n",
    "y = 10\n",
    "globals()[name] = y\n",
    "print(dynamic_variable)\n",
    "globals()[name] = 15\n",
    "print(dynamic_variable)"
   ]
  },
  {
   "cell_type": "code",
   "execution_count": 13,
   "id": "9646f67f-1703-4313-bf6f-120100df9140",
   "metadata": {},
   "outputs": [
    {
     "name": "stdout",
     "output_type": "stream",
     "text": [
      "a b c\n"
     ]
    }
   ],
   "source": [
    "# Use variable unpacking to assign values from a list or tuple to multiple variables\n",
    "a = ['a','b','c']\n",
    "x, y, z = a\n",
    "print(x, y, z)"
   ]
  },
  {
   "cell_type": "code",
   "execution_count": 31,
   "id": "1b4c7495-9009-4650-a900-5e725eb64f2c",
   "metadata": {},
   "outputs": [
    {
     "name": "stdout",
     "output_type": "stream",
     "text": [
      "Hello\n"
     ]
    },
    {
     "data": {
      "text/plain": [
       "'Hello'"
      ]
     },
     "execution_count": 31,
     "metadata": {},
     "output_type": "execute_result"
    }
   ],
   "source": [
    "# Use variable annotations to specify the type of a variable in a Python program.\n",
    "print(x := \"Hello\")\n",
    "x"
   ]
  },
  {
   "cell_type": "code",
   "execution_count": 15,
   "id": "685e8963-6def-457b-88ae-d879e5ffe41a",
   "metadata": {},
   "outputs": [
    {
     "name": "stdout",
     "output_type": "stream",
     "text": [
      "5\n",
      "c\n"
     ]
    }
   ],
   "source": [
    "# Write a Python program using a keyword as a variable name and see if it raises any error.\n",
    "integer = 5\n",
    "print(integer)\n",
    "char = 'c'\n",
    "print(char)"
   ]
  },
  {
   "cell_type": "code",
   "execution_count": 32,
   "id": "0ab3f5dc-9aea-41ad-a8da-68026f491141",
   "metadata": {},
   "outputs": [
    {
     "name": "stdout",
     "output_type": "stream",
     "text": [
      "200\n"
     ]
    }
   ],
   "source": [
    "# Declare a constant variable and try to change its value.\n",
    "MAX_SIZE = 100\n",
    "\n",
    "MAX_SIZE = 200\n",
    "\n",
    "print(MAX_SIZE)"
   ]
  },
  {
   "cell_type": "code",
   "execution_count": 42,
   "id": "e6717c35-1dc0-49f0-ab38-588bafe16680",
   "metadata": {},
   "outputs": [
    {
     "name": "stdout",
     "output_type": "stream",
     "text": [
      "5\n"
     ]
    }
   ],
   "source": [
    "# Use the del keyword to delete a variable\n",
    "x = 5\n",
    "print(x)\n",
    "del x\n",
    "# print(x)"
   ]
  },
  {
   "cell_type": "code",
   "execution_count": 18,
   "id": "fe2f9f7f-4ff4-48aa-9a43-d43266d44264",
   "metadata": {},
   "outputs": [
    {
     "data": {
      "text/plain": [
       "str"
      ]
     },
     "execution_count": 18,
     "metadata": {},
     "output_type": "execute_result"
    }
   ],
   "source": [
    "# Write a Python program to convert an integer to a string and print its type.\n",
    "x = 5\n",
    "z = str(x)\n",
    "type(z)"
   ]
  },
  {
   "cell_type": "code",
   "execution_count": 36,
   "id": "3f2fd32d-bdf9-4eca-9dfc-7218bf2f2084",
   "metadata": {},
   "outputs": [
    {
     "name": "stdout",
     "output_type": "stream",
     "text": [
      "Enter a string 586\n"
     ]
    },
    {
     "name": "stdout",
     "output_type": "stream",
     "text": [
      "<class 'int'>\n"
     ]
    }
   ],
   "source": [
    "# Write a Python program that takes user input as a string and converts it to an integer, handling the exception if the input is not convertible.\n",
    "x = input(\"Enter a string\")\n",
    "try:\n",
    "    z = int(x)\n",
    "    print(type(z))\n",
    "except ValueError:\n",
    "    print(\"Not convertable\")"
   ]
  },
  {
   "cell_type": "code",
   "execution_count": 20,
   "id": "3a62d671-fe83-4121-aa44-76e5c80a7407",
   "metadata": {},
   "outputs": [
    {
     "data": {
      "text/plain": [
       "int"
      ]
     },
     "execution_count": 20,
     "metadata": {},
     "output_type": "execute_result"
    }
   ],
   "source": [
    "# Convert a float to an integer and print its type.\n",
    "l = 5.5\n",
    "m = int(l)\n",
    "type(m)"
   ]
  },
  {
   "cell_type": "code",
   "execution_count": 21,
   "id": "b63023cb-6142-4ba3-9a7f-0eda520dbacf",
   "metadata": {},
   "outputs": [
    {
     "data": {
      "text/plain": [
       "int"
      ]
     },
     "execution_count": 21,
     "metadata": {},
     "output_type": "execute_result"
    }
   ],
   "source": [
    "# Convert a string to an integer and print its type.\n",
    "a = '4567'\n",
    "y = int(a)\n",
    "type(y)"
   ]
  },
  {
   "cell_type": "code",
   "execution_count": 22,
   "id": "dad0cd71-4dcc-41f0-a6f7-60b044060679",
   "metadata": {},
   "outputs": [
    {
     "name": "stdout",
     "output_type": "stream",
     "text": [
      "5.0\n"
     ]
    },
    {
     "data": {
      "text/plain": [
       "float"
      ]
     },
     "execution_count": 22,
     "metadata": {},
     "output_type": "execute_result"
    }
   ],
   "source": [
    "# Convert a string to a float and print its type.\n",
    "x = '5'\n",
    "c = float(x)\n",
    "print(c)\n",
    "type(c)"
   ]
  },
  {
   "cell_type": "code",
   "execution_count": 23,
   "id": "9a33fcb3-3b9e-4f0a-b43a-a8e81c9de3b4",
   "metadata": {},
   "outputs": [
    {
     "data": {
      "text/plain": [
       "int"
      ]
     },
     "execution_count": 23,
     "metadata": {},
     "output_type": "execute_result"
    }
   ],
   "source": [
    "# Convert a boolean to an integer and print its type.\n",
    "x = True\n",
    "z = int(x)\n",
    "type(z)"
   ]
  },
  {
   "cell_type": "code",
   "execution_count": 29,
   "id": "c3b0f099-3eee-4829-8ba0-3bb93ecbf04f",
   "metadata": {},
   "outputs": [
    {
     "name": "stdout",
     "output_type": "stream",
     "text": [
      "Hello\n"
     ]
    }
   ],
   "source": [
    "# Check if a variable is None or if it is an integer greater than zero.\n",
    "x = 5\n",
    "if(x is None or x > 0):\n",
    "    print('Hello')\n",
    "else:\n",
    "    print('Wrong')"
   ]
  },
  {
   "cell_type": "code",
   "execution_count": 22,
   "id": "60f856ce-f117-4c4a-8722-b5037b0a9e0b",
   "metadata": {},
   "outputs": [
    {
     "name": "stdin",
     "output_type": "stream",
     "text": [
      "Enter a string sadfafd\n"
     ]
    },
    {
     "name": "stdout",
     "output_type": "stream",
     "text": [
      "Try again\n"
     ]
    }
   ],
   "source": [
    "# Check if the length of a string is within a specified range and if the string contains a specific character.\n",
    "x = input(\"Enter a string\")\n",
    "LengthString = len(x)\n",
    "\n",
    "if(LengthString > 10 and LengthString < 100 and 'i' in x):\n",
    "    print(\"Well and good\")\n",
    "else:\n",
    "    print(\"Try again\")"
   ]
  },
  {
   "cell_type": "markdown",
   "id": "200546ce-4ec9-4e85-8f4f-caacd699232a",
   "metadata": {},
   "source": [
    "# Questions - Monday(03/06/24)"
   ]
  },
  {
   "cell_type": "code",
   "execution_count": 11,
   "id": "39af689b-a025-4ec2-b20d-cfe8c08932b2",
   "metadata": {},
   "outputs": [
    {
     "name": "stdin",
     "output_type": "stream",
     "text": [
      "Enter 1st Number:  12\n",
      "Enter 2nd Number:  10\n"
     ]
    },
    {
     "name": "stdout",
     "output_type": "stream",
     "text": [
      "Sum:  22\n",
      "Sum:  2\n",
      "Sum:  120\n",
      "Sum:  1\n"
     ]
    }
   ],
   "source": [
    "# Perform basic arithmetic operations (sum, difference, product, and quotient) on two \n",
    "# integers and print the results.\n",
    "a = int(input(\"Enter 1st Number: \"))\n",
    "b = int(input(\"Enter 2nd Number: \"))\n",
    "print(\"Sum: \",a+b)\n",
    "print(\"Sum: \",a-b)\n",
    "print(\"Sum: \",a*b)\n",
    "print(\"Sum: \",a//b)"
   ]
  },
  {
   "cell_type": "code",
   "execution_count": 23,
   "id": "e84d4233-0fda-4527-944d-f79f031c1577",
   "metadata": {},
   "outputs": [
    {
     "name": "stdin",
     "output_type": "stream",
     "text": [
      "Enter 1st Number:  15.5\n",
      "Enter 2nd Number:  15.3\n"
     ]
    },
    {
     "name": "stdout",
     "output_type": "stream",
     "text": [
      "a is greater\n"
     ]
    }
   ],
   "source": [
    "# Compare two float numbers and print whether the first number is greater than, \n",
    "# less than, or equal to the second number.\n",
    "a = float(input(\"Enter 1st Number: \"))\n",
    "b = float(input(\"Enter 2nd Number: \"))\n",
    "if(a > b):\n",
    "    print(\"a is greater\")\n",
    "elif(a < b):\n",
    "    print(\"b is greater\")\n",
    "else:\n",
    "    print(\"Both are equal\")"
   ]
  },
  {
   "cell_type": "code",
   "execution_count": 13,
   "id": "235e3e34-324d-4a3e-b7ae-da0c2f8606b2",
   "metadata": {},
   "outputs": [
    {
     "name": "stdin",
     "output_type": "stream",
     "text": [
      "Enter a Number:  42\n"
     ]
    },
    {
     "name": "stdout",
     "output_type": "stream",
     "text": [
      "a is even\n"
     ]
    }
   ],
   "source": [
    "# Check if a given integer is even or odd and print the result.\n",
    "a = int(input(\"Enter a Number: \"))\n",
    "if(a % 2 == 0):\n",
    "    print(\"a is even\")\n",
    "else:\n",
    "    print(\"a is odd\")"
   ]
  },
  {
   "cell_type": "code",
   "execution_count": 14,
   "id": "82f4b051-c2fa-4c34-8660-6b54951c12ab",
   "metadata": {},
   "outputs": [
    {
     "name": "stdin",
     "output_type": "stream",
     "text": [
      "Enter radius:  5\n"
     ]
    },
    {
     "name": "stdout",
     "output_type": "stream",
     "text": [
      "Area of circle: 78.5\n"
     ]
    }
   ],
   "source": [
    "# Calculate and print the area of a circle given its radius.\n",
    "rad = float(input(\"Enter radius: \"))\n",
    "print(\"Area of circle:\",3.14*rad*rad)"
   ]
  },
  {
   "cell_type": "code",
   "execution_count": 15,
   "id": "53fbce3b-d532-48a5-a6cd-fd6cc49028dc",
   "metadata": {},
   "outputs": [
    {
     "name": "stdin",
     "output_type": "stream",
     "text": [
      "Enter a number to find absolute of it:  -12\n"
     ]
    },
    {
     "name": "stdout",
     "output_type": "stream",
     "text": [
      "12\n"
     ]
    }
   ],
   "source": [
    "# Print the absolute value of a given integer.\n",
    "a = int(input(\"Enter a number to find absolute of it: \"))\n",
    "print(abs(a))"
   ]
  },
  {
   "cell_type": "code",
   "execution_count": 16,
   "id": "01a79f16-02ce-4ad3-9b74-4399b7a8fe5f",
   "metadata": {},
   "outputs": [
    {
     "name": "stdin",
     "output_type": "stream",
     "text": [
      "Enter a number:  -45\n"
     ]
    },
    {
     "name": "stdout",
     "output_type": "stream",
     "text": [
      "a is negative\n"
     ]
    }
   ],
   "source": [
    "# Check if a given integer is positive, negative, or zero and print the result\n",
    "a = int(input(\"Enter a number: \"))\n",
    "if(a > 0):\n",
    "    print(\"a is positive\")\n",
    "elif(a < 0):\n",
    "    print(\"a is negative\")\n",
    "else:\n",
    "    print(\"Value of a is zero\")"
   ]
  },
  {
   "cell_type": "code",
   "execution_count": 18,
   "id": "255c8904-b362-45ce-be30-e2a803b030c1",
   "metadata": {},
   "outputs": [
    {
     "name": "stdin",
     "output_type": "stream",
     "text": [
      "Enter principal:  1000\n",
      "Enter rate:  .3\n",
      "Enter time (int years):  2\n"
     ]
    },
    {
     "name": "stdout",
     "output_type": "stream",
     "text": [
      "Simple interest:  6.0\n"
     ]
    }
   ],
   "source": [
    "# Calculate and print the simple interest given principal, rate, and time.\n",
    "p = int(input(\"Enter principal: \"))\n",
    "r = float(input(\"Enter rate: \"))\n",
    "t = int(input(\"Enter time (int years): \"))\n",
    "print(\"Simple interest: \", (p*r*t)/100)"
   ]
  },
  {
   "cell_type": "code",
   "execution_count": 19,
   "id": "1fabd29c-efe0-486b-8e07-caa56d49abc6",
   "metadata": {},
   "outputs": [
    {
     "name": "stdin",
     "output_type": "stream",
     "text": [
      "Enter number 1:  5\n",
      "Enter number 2:  6\n",
      "Enter number 3:  7\n"
     ]
    },
    {
     "name": "stdout",
     "output_type": "stream",
     "text": [
      "c is greater\n"
     ]
    }
   ],
   "source": [
    "# Find and print the maximum of three given numbers \n",
    "# ,do not use in built func,try to solve by using conditional statement\n",
    "a = int(input(\"Enter number 1: \"))\n",
    "b = int(input(\"Enter number 2: \"))\n",
    "c = int(input(\"Enter number 3: \"))\n",
    "if(a > b and a > c):\n",
    "    print(\"a is greater\")\n",
    "elif(b > a and b > c):\n",
    "    print(\"b is greater\")\n",
    "else:\n",
    "    print(\"c is greater\")"
   ]
  },
  {
   "cell_type": "code",
   "execution_count": 20,
   "id": "39debda8-fd18-4d71-ae8a-038ca1526c92",
   "metadata": {},
   "outputs": [
    {
     "name": "stdin",
     "output_type": "stream",
     "text": [
      "Enter a number:  46\n"
     ]
    },
    {
     "name": "stdout",
     "output_type": "stream",
     "text": [
      "Not divisible by 5\n"
     ]
    }
   ],
   "source": [
    "# Check if a given integer is divisible by 5 and print the result.\n",
    "a = int(input(\"Enter a number: \"))\n",
    "if(a % 5 == 0):\n",
    "    print(\"Number is divisible by 5\")\n",
    "else:\n",
    "    print(\"Not divisible by 5\")"
   ]
  },
  {
   "cell_type": "code",
   "execution_count": 21,
   "id": "6b385b61-d018-4ea7-a0ac-000fcb5e6765",
   "metadata": {},
   "outputs": [
    {
     "name": "stdin",
     "output_type": "stream",
     "text": [
      "Enter a number 12\n"
     ]
    },
    {
     "name": "stdout",
     "output_type": "stream",
     "text": [
      "Not a single digit number\n"
     ]
    }
   ],
   "source": [
    "# Check if a given integer is a single-digit number and print the result.\n",
    "a = int(input(\"Enter a number\"))\n",
    "if(a < 10):\n",
    "    print(\"Number is a single digit number\")\n",
    "else:\n",
    "    print(\"Not a single digit number\")"
   ]
  },
  {
   "cell_type": "code",
   "execution_count": null,
   "id": "a3ecdca9-d7e2-4f0f-abb0-e556a115feea",
   "metadata": {},
   "outputs": [],
   "source": []
  }
 ],
 "metadata": {
  "kernelspec": {
   "display_name": "Python 3 (ipykernel)",
   "language": "python",
   "name": "python3"
  },
  "language_info": {
   "codemirror_mode": {
    "name": "ipython",
    "version": 3
   },
   "file_extension": ".py",
   "mimetype": "text/x-python",
   "name": "python",
   "nbconvert_exporter": "python",
   "pygments_lexer": "ipython3",
   "version": "3.11.7"
  }
 },
 "nbformat": 4,
 "nbformat_minor": 5
}
